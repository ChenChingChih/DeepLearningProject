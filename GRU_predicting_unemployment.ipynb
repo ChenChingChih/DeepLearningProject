{
  "nbformat": 4,
  "nbformat_minor": 0,
  "metadata": {
    "colab": {
      "name": "GRU predicting unemployment.ipynb",
      "version": "0.3.2",
      "provenance": [],
      "collapsed_sections": [],
      "include_colab_link": true
    },
    "kernelspec": {
      "name": "python3",
      "display_name": "Python 3"
    },
    "accelerator": "TPU"
  },
  "cells": [
    {
      "cell_type": "markdown",
      "metadata": {
        "id": "view-in-github",
        "colab_type": "text"
      },
      "source": [
        "<a href=\"https://colab.research.google.com/github/ChenChingChih/DeepLearningProject/blob/master/GRU_predicting_unemployment.ipynb\" target=\"_parent\"><img src=\"https://colab.research.google.com/assets/colab-badge.svg\" alt=\"Open In Colab\"/></a>"
      ]
    },
    {
      "cell_type": "code",
      "metadata": {
        "id": "oHHAR6QwD1ou",
        "colab_type": "code",
        "outputId": "d69927eb-f107-4d9f-968b-fdd6a2d9a250",
        "colab": {
          "base_uri": "https://localhost:8080/",
          "height": 34
        }
      },
      "source": [
        "# GRU predicting unemployment\n",
        "import math\n",
        "import torch\n",
        "import torch.nn as nn\n",
        "import matplotlib.pyplot as plt\n",
        "import pandas as pd\n",
        "pd.core.common.is_list_like = pd.api.types.is_list_like\n",
        "import pandas_datareader.data as web\n",
        "import datetime\n",
        "\n",
        "torch.manual_seed(42)\n"
      ],
      "execution_count": 0,
      "outputs": [
        {
          "output_type": "execute_result",
          "data": {
            "text/plain": [
              "<torch._C.Generator at 0x7f35318832f0>"
            ]
          },
          "metadata": {
            "tags": []
          },
          "execution_count": 1
        }
      ]
    },
    {
      "cell_type": "code",
      "metadata": {
        "id": "2SvskNBxGAX4",
        "colab_type": "code",
        "colab": {}
      },
      "source": [
        "class GRUCell(nn.Module):\n",
        "    \"\"\"\n",
        "    An implementation of GRUCell.\n",
        "\n",
        "    \"\"\"\n",
        "\n",
        "    def __init__(self, input_size, hidden_size, bias=True):\n",
        "        # input_size = dimension of x[t]\n",
        "        # hidden_size = dimension of h[t]\n",
        "        super(GRUCell, self).__init__()\n",
        "        self.input_size = input_size\n",
        "        self.hidden_size = hidden_size\n",
        "        self.bias = bias\n",
        "        self.x2h = nn.Linear(input_size, 3 * hidden_size, bias=bias)   # r\n",
        "        self.h2h = nn.Linear(hidden_size, 3 * hidden_size, bias=bias)  # z\n",
        "        self.reset_parameters()\n",
        "\n",
        "    def reset_parameters(self):\n",
        "        std = 1.0 / math.sqrt(self.hidden_size)\n",
        "        for w in self.parameters():\n",
        "            w.data.uniform_(-std, std)\n",
        "\n",
        "    def forward(self, x, hidden):\n",
        "        # x: x[t]\n",
        "        # hidden: h[t-1]\n",
        "        x = x.view(-1, x.size(1))\n",
        "\n",
        "        gate_x = self.x2h(x)    # r\n",
        "        gate_h = self.h2h(hidden)   # z\n",
        "\n",
        "        gate_x = gate_x.squeeze()   # r\n",
        "        gate_h = gate_h.squeeze()   # z\n",
        "\n",
        "        i_r, i_i, i_n = gate_x.chunk(3, 1)   # (r, z, g) from x\n",
        "        h_r, h_i, h_n = gate_h.chunk(3, 1)   # (r, z, g) from h\n",
        "\n",
        "        resetgate = torch.sigmoid(i_r + h_r)  # r\n",
        "        inputgate = torch.sigmoid(i_i + h_i)  # z\n",
        "        newgate = torch.tanh(i_n + (resetgate * h_n))   # g\n",
        "\n",
        "        hy = newgate + inputgate * (hidden - newgate)\n",
        "\n",
        "        return hy\n",
        "\n"
      ],
      "execution_count": 0,
      "outputs": []
    },
    {
      "cell_type": "code",
      "metadata": {
        "id": "6ms6sI8aGD4C",
        "colab_type": "code",
        "colab": {}
      },
      "source": [
        "class GRUModel(nn.Module):\n",
        "    def __init__(self, input_dim, hidden_dim, layer_dim, output_dim, bias=True):\n",
        "        super(GRUModel, self).__init__()\n",
        "        # Hidden dimensions\n",
        "        self.hidden_dim = hidden_dim\n",
        "\n",
        "        # Number of hidden layers\n",
        "        self.layer_dim = layer_dim\n",
        "        self.gru_cell = GRUCell(input_dim, hidden_dim, layer_dim)\n",
        "        self.fc = nn.Linear(hidden_dim, output_dim)\n",
        "\n",
        "    def forward(self, x):\n",
        "        # Initialize hidden state with zeros\n",
        "        h0 = torch.zeros(self.layer_dim, x.size(0), self.hidden_dim)\n",
        "        outs = []\n",
        "        hn = h0[0, :, :]\n",
        "\n",
        "        # calculate GRU cell for all t\n",
        "        for seq in range(x.size(1)):\n",
        "            hn = self.gru_cell(x[:, seq, :], hn)\n",
        "            outs.append(hn)\n",
        "\n",
        "        out = outs[-1].squeeze()\n",
        "\n",
        "        # out: y[t] = f(h[t])\n",
        "        out = self.fc(out)\n",
        "        return out"
      ],
      "execution_count": 0,
      "outputs": []
    },
    {
      "cell_type": "code",
      "metadata": {
        "id": "s_c_O5BCGGGf",
        "colab_type": "code",
        "outputId": "4cb0d38b-8589-441d-dbb4-97e800e6bd6f",
        "colab": {
          "base_uri": "https://localhost:8080/",
          "height": 949
        }
      },
      "source": [
        "if __name__ == '__main__':\n",
        "    start = datetime.datetime(1963, 1, 1)\n",
        "    end = datetime.date(2014, 12, 31)\n",
        "    df_orig = web.DataReader('UNRATE', 'fred', start, end)\n",
        "    u = df_orig.UNRATE.values\n",
        "    scale = u.max() - u.min()\n",
        "    d = (u - u.min()) / scale  # convert data to [0, 1]\n",
        "    rng = pd.date_range('1/1/1963', periods=u.shape[0], freq='M')\n",
        "    df = pd.DataFrame(d, columns=['UNRATE'], index=rng)\n",
        "    n_lag = 6\n",
        "    f_ahead = 1\n",
        "    total_shift = n_lag + f_ahead - 1\n",
        "    for i in range(1, total_shift + 1):\n",
        "        df['u_lag' + str(i)] = pd.Series(df.UNRATE.shift(i), index=df.index)\n",
        "    df.dropna(inplace=True)\n",
        "\n",
        "    dataset = df.values\n",
        "    train_size = int(dataset.shape[0] * 0.7)\n",
        "    test_size = dataset.shape[0] - train_size\n",
        "    data_Y = dataset[:, 0]  # y[t]\n",
        "    data_X = dataset[:, f_ahead:]  # y[t-f_ahead], ..., y[t-total_shift]\n",
        "    Y_train = data_Y[:train_size]\n",
        "    Y_test = data_Y[train_size:]\n",
        "    X_train = data_X[:train_size]\n",
        "    X_test = data_X[train_size:]\n",
        "\n",
        "    input_dim = n_lag\n",
        "    hidden_dim = 20\n",
        "    layer_dim = 1  # ONLY CHANGE IS HERE FROM ONE LAYER TO TWO LAYER\n",
        "    output_dim = 1\n",
        "\n",
        "    myModel = GRUModel(input_dim, hidden_dim, layer_dim, output_dim)\n",
        "    myLoss = nn.MSELoss()\n",
        "    learning_rate = 0.1\n",
        "    optimizer = torch.optim.SGD(myModel.parameters(), lr=learning_rate)\n",
        "\n",
        "    train_X = X_train.reshape(-1, 1, n_lag)\n",
        "    train_Y = Y_train.reshape(-1, 1, 1)\n",
        "    test_X = X_test.reshape(-1, 1, n_lag)\n",
        "\n",
        "    train_x = torch.tensor(train_X).float()\n",
        "    train_y = torch.tensor(train_Y).float()\n",
        "    test_x = torch.tensor(test_X).float()\n",
        "\n",
        "    epochs = 2000\n",
        "    for i in range(epochs):\n",
        "        # foward propagation\n",
        "        out = myModel(train_x)\n",
        "\n",
        "        # compute the loss\n",
        "        loss = myLoss(train_y[:, 0, :], out)\n",
        "        if (i + 1) % 50 == 0:\n",
        "            print('epoch: ', i, 'loss: ', loss.item())\n",
        "\n",
        "        # zero the gradients\n",
        "        optimizer.zero_grad()\n",
        "        # backpropagation\n",
        "        loss.backward()\n",
        "        # update the parameters\n",
        "        optimizer.step()\n",
        "\n",
        "    myModel = myModel.eval()\n",
        "    data_X = data_X.reshape(-1, 1, n_lag)\n",
        "    data_X = torch.tensor(data_X).float()\n",
        "    var_data = data_X   # Variable(data_X)\n",
        "    pred_test = myModel(var_data)\n",
        "    pred_test = pred_test.view(-1).data.numpy()\n",
        "\n",
        "    plt.figure(0)\n",
        "    plt.clf()\n",
        "    plt.plot(pred_test, 'r', label='y pred')\n",
        "    plt.plot(data_Y, 'b', label='y')\n",
        "    plt.legend()\n",
        "    plt.show()\n"
      ],
      "execution_count": 0,
      "outputs": [
        {
          "output_type": "stream",
          "text": [
            "epoch:  49 loss:  0.02039489895105362\n",
            "epoch:  99 loss:  0.008956346660852432\n",
            "epoch:  149 loss:  0.003991500474512577\n",
            "epoch:  199 loss:  0.0025061198975890875\n",
            "epoch:  249 loss:  0.0021422042045742273\n",
            "epoch:  299 loss:  0.0020452039316296577\n",
            "epoch:  349 loss:  0.0020028783474117517\n",
            "epoch:  399 loss:  0.0019712629728019238\n",
            "epoch:  449 loss:  0.0019419715972617269\n",
            "epoch:  499 loss:  0.0019134556641802192\n",
            "epoch:  549 loss:  0.0018854282097890973\n",
            "epoch:  599 loss:  0.0018578303279355168\n",
            "epoch:  649 loss:  0.0018306456040591002\n",
            "epoch:  699 loss:  0.0018038646085187793\n",
            "epoch:  749 loss:  0.0017774800071492791\n",
            "epoch:  799 loss:  0.0017514849314466119\n",
            "epoch:  849 loss:  0.0017258747247979045\n",
            "epoch:  899 loss:  0.0017006427515298128\n",
            "epoch:  949 loss:  0.0016757845878601074\n",
            "epoch:  999 loss:  0.0016512961592525244\n",
            "epoch:  1049 loss:  0.0016271728090941906\n",
            "epoch:  1099 loss:  0.0016034113941714168\n",
            "epoch:  1149 loss:  0.001580009120516479\n",
            "epoch:  1199 loss:  0.001556962262839079\n",
            "epoch:  1249 loss:  0.0015342687256634235\n",
            "epoch:  1299 loss:  0.0015119259478524327\n",
            "epoch:  1349 loss:  0.0014899326488375664\n",
            "epoch:  1399 loss:  0.0014682860346511006\n",
            "epoch:  1449 loss:  0.0014469841262325644\n",
            "epoch:  1499 loss:  0.001426027505658567\n",
            "epoch:  1549 loss:  0.0014054125640541315\n",
            "epoch:  1599 loss:  0.0013851390685886145\n",
            "epoch:  1649 loss:  0.0013652057386934757\n",
            "epoch:  1699 loss:  0.0013456119922921062\n",
            "epoch:  1749 loss:  0.0013263567816466093\n",
            "epoch:  1799 loss:  0.0013074392918497324\n",
            "epoch:  1849 loss:  0.0012888585915789008\n",
            "epoch:  1899 loss:  0.0012706132838502526\n",
            "epoch:  1949 loss:  0.0012527033686637878\n",
            "epoch:  1999 loss:  0.0012351274490356445\n"
          ],
          "name": "stdout"
        },
        {
          "output_type": "display_data",
          "data": {
            "image/png": "[encoded data removed]",
            "text/plain": [
              "<Figure size 432x288 with 1 Axes>"
            ]
          },
          "metadata": {
            "tags": []
          }
        }
      ]
    }
  ]
}